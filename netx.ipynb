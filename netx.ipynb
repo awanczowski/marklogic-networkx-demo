{
 "cells": [
  {
   "cell_type": "markdown",
   "metadata": {},
   "source": [
    "# MarkLogic and NetworkX Demo\n",
    "\n",
    "This notebook demonstrates fetching data from MarkLogic's triplestore using the SPARQL endpoint. NetworkX will then take the returned dataset and run graph algorithms against that subset of the graph.\n",
    "\n",
    "*Note: This demo assumes that you have a configured MarkLogic Server with a demo user that can read/write data from MarkLogic Server. See <https://docs.marklogic.com/11.0/guide/installation-guide/en/procedures/installing-marklogic.html> for installation and user creation <https://docs.marklogic.com/11.0/guide/security-guide/en/securing-marklogic-server.html> if needed.*"
   ]
  },
  {
   "cell_type": "markdown",
   "metadata": {},
   "source": [
    "## Inserting Graph Data into MarkLogic Server\n",
    "\n",
    "MarkLogic allows you to create semantic graphs through the /v1/graphs REST API. For this example we are creating a simple social network utilizing SKOS."
   ]
  },
  {
   "cell_type": "code",
   "execution_count": null,
   "metadata": {},
   "outputs": [],
   "source": [
    "import requests \n",
    "from requests.auth import HTTPBasicAuth \n",
    "\n",
    "ttl = \"\"\"\n",
    "@prefix rdf: <http://www.w3.org/1999/02/22-rdf-syntax-ns#> .\n",
    "@prefix skos: <http://www.w3.org/2004/02/skos/core#> .\n",
    "@prefix ex: <https://example.com/semantics/people#> .\n",
    "@prefix rdfs: <http://www.w3.org/2000/01/rdf-schema#> .\n",
    "\n",
    "# Simple Social Graph\n",
    "ex:Person       rdfs:isDefinedBy ex:Person ;\n",
    "                a                rdfs:Class ;\n",
    "                rdfs:label       \"Person\" ;\n",
    "                skos:prefLabel   \"Person\" ;\n",
    "                rdfs:subClassOf  skos:Concept .\n",
    "\n",
    "ex:1            rdfs:isDefinedBy  1 ;\n",
    "                a                 ex:Person ;\n",
    "                skos:prefLabel    \"Andrey Ohlsen\" .                \n",
    "\n",
    "ex:2            rdfs:isDefinedBy  2 ;\n",
    "                a                 ex:Person ;\n",
    "                skos:prefLabel    \"Rodolphe Alexandersen\" ;\n",
    "                skos:broader      ex:1 .\n",
    "                \n",
    "\n",
    "ex:3            rdfs:isDefinedBy  3 ;\n",
    "                a                 ex:Person ;\n",
    "                skos:prefLabel    \"Wilow Duckels\" ;\n",
    "                skos:broader      ex:1 .\n",
    "                \n",
    "\n",
    "ex:4            rdfs:isDefinedBy  4 ;\n",
    "                a                 ex:Person ;\n",
    "                skos:prefLabel    \"Sheilakathryn Arkley\" ;\n",
    "                skos:broader      ex:2 .\n",
    "                \n",
    "\n",
    "ex:5            rdfs:isDefinedBy  5 ;\n",
    "                a                 ex:Person ;\n",
    "                skos:prefLabel    \"Frank Grayley\" ;\n",
    "                skos:broader      ex:4 .\n",
    "                \n",
    "\"\"\"\n",
    "\n",
    "response = requests.put('http://localhost:8000/v1/graphs?graph=https://example.com/semantics/people', \n",
    "            data = ttl,\n",
    "            headers = { 'Content-Type': 'text/turtle' },\n",
    "            auth = HTTPBasicAuth('user', 'password')) \n",
    "\n",
    "pprint(response)"
   ]
  },
  {
   "cell_type": "markdown",
   "metadata": {},
   "source": [
    "## Reading Data from MarkLogic and Processing with NetworkX \n",
    "\n",
    "NetworkX is an an extensive graph algorithm library that can analyze a variety of graph data. We will be using NetworkX for our demo along with information stored in MarkLogic Server.\n",
    "\n",
    "NetworkX requires its data structure to run the algorithms. NetworkX provides support for undirected, directed, undirected multi-graph, and directed multi-graph. The directed multi-graph can be used for  our examples below. This will ensure that we preserve the directionality of our triplestore and allow for multiple links between nodes.\n",
    "\n",
    "The following code reaches out to MarkLogic's SPARQL endpoint and fetches a subset of the graph. Utilizing the DESCRIBE keyword in our SPARQL statement will give the necessary triples to build the graph and return a turtle encoded response. We then parse the turtle and convert it to a graph that can be used by NetworkX.\n"
   ]
  },
  {
   "cell_type": "code",
   "execution_count": null,
   "metadata": {},
   "outputs": [],
   "source": [
    "\n",
    "from pprint import pprint\n",
    "\n",
    "import networkx as nx\n",
    "\n",
    "from rdflib import Graph, URIRef\n",
    "from rdflib.extras.external_graph_libs import rdflib_to_networkx_multidigraph\n",
    "\n",
    "from SPARQLWrapper import SPARQLWrapper, POST, BASIC\n",
    "\n",
    "sparql = SPARQLWrapper(\"http://localhost:8000/v1/graphs/sparql\")\n",
    "sparql.setMethod(POST)\n",
    "sparql.setHTTPAuth(BASIC)\n",
    "sparql.setOnlyConneg(True) # Disables the additional params being sent.\n",
    "sparql.setCredentials(\"user\", \"password\")\n",
    "\n",
    "query = \"\"\"\n",
    "## query\n",
    "\n",
    "PREFIX ex: <https://example.com/semantics/people#> \n",
    "PREFIX skos: <http://www.w3.org/2004/02/skos/core#>\n",
    "\n",
    "DESCRIBE * FROM <https://example.com/semantics/people> WHERE {\n",
    "  ?person a ex:Person ;\n",
    "          skos:broader* ?knows .\n",
    "}\n",
    "\"\"\"\n",
    "\n",
    "sparql.setQuery(query)\n",
    "results = sparql.queryAndConvert()\n",
    "\n",
    "g = Graph();\n",
    "g.parse(data=results.serialize(), format=\"turtle\")\n",
    "mdg = rdflib_to_networkx_multidigraph(g)"
   ]
  },
  {
   "cell_type": "markdown",
   "metadata": {},
   "source": [
    "## Drawing your graph\n",
    "\n",
    "We can plot our graphs visually using NetworkX as well. There are multiple types of visualizations that you can use such as circular, random, planar, etc."
   ]
  },
  {
   "cell_type": "code",
   "execution_count": null,
   "metadata": {},
   "outputs": [],
   "source": [
    "nx.draw_planar(mdg, with_labels=True)"
   ]
  },
  {
   "cell_type": "markdown",
   "metadata": {},
   "source": [
    "## Shortest Path\n",
    "\n",
    "NetworkX can do shortest path calculations on the graph. The shortest path algorithm determines the least amount of hops to get between two nodes in the graph."
   ]
  },
  {
   "cell_type": "code",
   "execution_count": 48,
   "metadata": {},
   "outputs": [
    {
     "name": "stdout",
     "output_type": "stream",
     "text": [
      "[rdflib.term.URIRef('https://example.com/semantics/people#5'),\n",
      " rdflib.term.URIRef('https://example.com/semantics/people#4'),\n",
      " rdflib.term.URIRef('https://example.com/semantics/people#2'),\n",
      " rdflib.term.URIRef('https://example.com/semantics/people#1')]\n"
     ]
    },
    {
     "data": {
      "text/plain": [
       "[<matplotlib.patches.FancyArrowPatch at 0x1d1803235f0>,\n",
       " <matplotlib.patches.FancyArrowPatch at 0x1d1802c7bc0>,\n",
       " <matplotlib.patches.FancyArrowPatch at 0x1d180323a10>]"
      ]
     },
     "execution_count": 48,
     "metadata": {},
     "output_type": "execute_result"
    },
    {
     "data": {
      "image/png": "[encoded data removed]",
      "text/plain": [
       "<Figure size 640x480 with 1 Axes>"
      ]
     },
     "metadata": {},
     "output_type": "display_data"
    }
   ],
   "source": [
    "source = URIRef('https://example.com/semantics/people#5')\n",
    "target = URIRef('https://example.com/semantics/people#1')\n",
    "\n",
    "shortest_path = nx.shortest_path(mdg, source, target)\n",
    "\n",
    "pprint(shortest_path)\n",
    "\n",
    "# Visualize the Shortest Path\n",
    "layout = nx.planar_layout(mdg)\n",
    "nx.draw(mdg, layout)\n",
    "path_edges = list(zip(shortest_path, shortest_path[1:]))\n",
    "nx.draw_networkx_nodes(mdg, layout, nodelist = shortest_path)\n",
    "nx.draw_networkx_edges(mdg, layout, edgelist = path_edges, edge_color = 'yellow', width = 2)"
   ]
  },
  {
   "cell_type": "markdown",
   "metadata": {},
   "source": [
    "## Network Density\n",
    "\n",
    "Network density is determined on how connected each nodes are within the group. NetworkX provides  a score between 0 and 1. Zero being an completely unconnected graph. One being a graph where every node connects to each other. "
   ]
  },
  {
   "cell_type": "code",
   "execution_count": null,
   "metadata": {},
   "outputs": [],
   "source": [
    "density = nx.density(mdg)\n",
    "pprint(density)"
   ]
  },
  {
   "cell_type": "markdown",
   "metadata": {},
   "source": [
    "## Centrality\n",
    "\n",
    "Centrality measures the central a node is in a graph. There are a number of ways to calculate the level of importance of a node."
   ]
  },
  {
   "cell_type": "markdown",
   "metadata": {},
   "source": [
    "### Closeness Centrality\n",
    "\n",
    "Utilizing shortest paths closeness centrality determines how central a node is based on the distance from other nodes. "
   ]
  },
  {
   "cell_type": "code",
   "execution_count": null,
   "metadata": {},
   "outputs": [],
   "source": [
    "pprint(nx.closeness_centrality(mdg))"
   ]
  },
  {
   "cell_type": "markdown",
   "metadata": {},
   "source": [
    "### Degree Centrality\n",
    "\n",
    "Degree centrality takes into consideration on how connected a node is within the graph. The more connections the higher the centrality."
   ]
  },
  {
   "cell_type": "code",
   "execution_count": null,
   "metadata": {},
   "outputs": [],
   "source": [
    "pprint(nx.degree_centrality(mdg))"
   ]
  },
  {
   "cell_type": "markdown",
   "metadata": {},
   "source": [
    "## Components"
   ]
  },
  {
   "cell_type": "markdown",
   "metadata": {},
   "source": [
    "###  Strongly Connected Components"
   ]
  },
  {
   "cell_type": "code",
   "execution_count": null,
   "metadata": {},
   "outputs": [],
   "source": [
    "pprint(list(nx.strongly_connected_components(mdg)))"
   ]
  },
  {
   "cell_type": "markdown",
   "metadata": {},
   "source": [
    "### Weakly Connected Components"
   ]
  },
  {
   "cell_type": "code",
   "execution_count": null,
   "metadata": {},
   "outputs": [],
   "source": [
    "pprint(list(nx.weakly_connected_components(mdg)))"
   ]
  },
  {
   "cell_type": "markdown",
   "metadata": {},
   "source": [
    "## Link Analysis\n",
    "\n",
    "Link analysis focuses on the connections or relationships of nodes in the graph. Various scoring can be calculated based on the number of connections between nodes."
   ]
  },
  {
   "cell_type": "markdown",
   "metadata": {},
   "source": [
    "###  Page Rank\n",
    "\n",
    "Page Rank Link Analysis provides a score on how connected each node is in the graph. A node that is has more links will have a higher page rank."
   ]
  },
  {
   "cell_type": "code",
   "execution_count": null,
   "metadata": {},
   "outputs": [],
   "source": [
    "pprint(nx.pagerank(mdg))"
   ]
  },
  {
   "cell_type": "markdown",
   "metadata": {},
   "source": [
    "### Hits\n",
    "\n",
    "Hits calculates two numbers based on the level of connectivity of a node. The scores are based on incoming and outgoing relationships."
   ]
  },
  {
   "cell_type": "code",
   "execution_count": null,
   "metadata": {},
   "outputs": [],
   "source": [
    "pprint(nx.hits(mdg))"
   ]
  },
  {
   "cell_type": "markdown",
   "metadata": {},
   "source": [
    "## Communities\n",
    "\n",
    "Communities are a grouping of nodes that are heavily connected. Use cases such as social networks are prime examples of communities. "
   ]
  },
  {
   "cell_type": "markdown",
   "metadata": {},
   "source": [
    "### Girvan-Newman Communities\n",
    "\n",
    "The Girvan-Newman community algorithm takes into account the centrality of a node when detecting communities."
   ]
  },
  {
   "cell_type": "code",
   "execution_count": null,
   "metadata": {},
   "outputs": [],
   "source": [
    "import random\n",
    "\n",
    "communities_generator = nx.community.girvan_newman(mdg)\n",
    "top_level_communities = next(communities_generator)\n",
    "next_level_communities = next(communities_generator)\n",
    "pprint(sorted(map(sorted, next_level_communities)))\n",
    "\n",
    "# Visualize the Communities\n",
    "pos = nx.planar_layout(mdg)\n",
    "nx.draw(mdg, pos,node_color = 'k')\n",
    "\n",
    "for node_set in next_level_communities:\n",
    "    random_color = \"#\" + hex(random.randrange(0, 2**24))[2:]\n",
    "    nx.draw_networkx_nodes(mdg, pos, nodelist = node_set, node_color = random_color)"
   ]
  }
 ],
 "metadata": {
  "kernelspec": {
   "display_name": "Python 3",
   "language": "python",
   "name": "python3"
  },
  "language_info": {
   "codemirror_mode": {
    "name": "ipython",
    "version": 3
   },
   "file_extension": ".py",
   "mimetype": "text/x-python",
   "name": "python",
   "nbconvert_exporter": "python",
   "pygments_lexer": "ipython3",
   "version": "3.12.2"
  }
 },
 "nbformat": 4,
 "nbformat_minor": 2
}
